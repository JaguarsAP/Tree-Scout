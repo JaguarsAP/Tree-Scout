{
 "cells": [
  {
   "cell_type": "markdown",
   "id": "1dd1d9c6",
   "metadata": {},
   "source": [
    "# Tree Scout\n",
    "In this notebook we will use the Global Forest Watch API of the past decade to predict future deforestation"
   ]
  },
  {
   "cell_type": "code",
   "execution_count": 19,
   "id": "244616e7",
   "metadata": {},
   "outputs": [
    {
     "name": "stdout",
     "output_type": "stream",
     "text": [
      "Requirement already satisfied: python-dotenv in c:\\users\\alepf\\appdata\\local\\programs\\python\\python313\\lib\\site-packages (1.1.1)\n",
      "Note: you may need to restart the kernel to use updated packages.\n",
      "All packages imported successfully!\n"
     ]
    }
   ],
   "source": [
    "%pip install python-dotenv\n",
    "\n",
    "\n",
    "# Import necessary packages\n",
    "import requests\n",
    "import pandas as pd\n",
    "import numpy as np\n",
    "import matplotlib.pyplot as plt\n",
    "import seaborn as sns\n",
    "from datetime import datetime, timedelta\n",
    "import json\n",
    "import warnings\n",
    "warnings.filterwarnings('ignore')\n",
    "\n",
    "# For environment variables\n",
    "from dotenv import load_dotenv\n",
    "import os\n",
    "\n",
    "# For machine learning\n",
    "from sklearn.model_selection import train_test_split\n",
    "from sklearn.preprocessing import StandardScaler\n",
    "from sklearn.cluster import KMeans\n",
    "from sklearn.linear_model import LinearRegression\n",
    "from sklearn.metrics import mean_squared_error, r2_score\n",
    "\n",
    "# Load environment variables from .env file\n",
    "load_dotenv()\n",
    "\n",
    "print(\"All packages imported successfully!\")"
   ]
  },
  {
   "cell_type": "code",
   "execution_count": 24,
   "id": "34345b44",
   "metadata": {},
   "outputs": [
    {
     "name": "stdout",
     "output_type": "stream",
     "text": [
      "status code: 200\n",
      "{'data': [{'area__ha': 24.23208}], 'status': 'success'}\n"
     ]
    }
   ],
   "source": [
    "import os\n",
    "from dotenv import load_dotenv\n",
    "\n",
    "load_dotenv()\n",
    "\n",
    "response = requests.post(  # Changed from GET to POST\n",
    "    \"https://data-api.globalforestwatch.org/dataset/umd_tree_cover_loss/v1.9.1/query/json\",\n",
    "    headers={\n",
    "        \"x-api-key\": os.getenv('GFW_API_KEY'),\n",
    "        \"Content-Type\": \"application/json\"\n",
    "    },\n",
    "    json={  # Changed from data= to json=\n",
    "        \"sql\": \"SELECT SUM(area__ha) FROM results WHERE umd_tree_cover_loss__year = 2012\",\n",
    "        \"geometry\": {\n",
    "            \"type\": \"Polygon\",\n",
    "            \"coordinates\": [[\n",
    "                [103.19732666015625, 0.5537709801264608],\n",
    "                [103.24882507324219, 0.5647567848663363],\n",
    "                [103.21277618408203, 0.5932511181408705],\n",
    "                [103.19732666015625, 0.5537709801264608]\n",
    "            ]]\n",
    "        }\n",
    "    }\n",
    ")\n",
    "\n",
    "print(f\"status code: {response.status_code}\")\n",
    "if response.status_code == 200:\n",
    "    print(response.json())\n",
    "else:\n",
    "    print(f\"Error: {response.text}\")"
   ]
  }
 ],
 "metadata": {
  "kernelspec": {
   "display_name": "Python 3",
   "language": "python",
   "name": "python3"
  },
  "language_info": {
   "codemirror_mode": {
    "name": "ipython",
    "version": 3
   },
   "file_extension": ".py",
   "mimetype": "text/x-python",
   "name": "python",
   "nbconvert_exporter": "python",
   "pygments_lexer": "ipython3",
   "version": "3.13.7"
  }
 },
 "nbformat": 4,
 "nbformat_minor": 5
}
